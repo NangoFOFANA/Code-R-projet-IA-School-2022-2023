{
 "cells": [
  {
   "cell_type": "code",
   "execution_count": null,
   "id": "aa46e929",
   "metadata": {},
   "outputs": [],
   "source": [
    "import requests\n",
    "from bs4 import BeautifulSoup\n",
    "import pandas as pd\n",
    "\n",
    "# Créer des listes vides pour stocker les informations extraites\n",
    "prix = []\n",
    "marques = []\n",
    "noms = []\n",
    "\n",
    "# Boucler à travers toutes les pages disponibles\n",
    "for page in range(1, 10):  # Modifier la plage selon le nombre total de pages\n",
    "    url = f'https://www.laboutiqueofficielle.com/t-shirts-9/?page={page}'\n",
    "    response = requests.get(url)\n",
    "    soup = BeautifulSoup(response.content, 'html.parser')\n",
    "\n",
    "    # Trouver tous les éléments de produit sur la page\n",
    "    products = soup.find_all('div', class_='u-1/4 u-1/2@tablet')\n",
    "\n",
    "    # Extraire les informations des prix, marques et titres des produits\n",
    "    for product in products:\n",
    "        price = product.find('span', class_='c-price').text.strip()\n",
    "        marque = product.find('div', class_='h5-like c-product-thumbnail__title').text.strip()\n",
    "        nom = product.find('div', class_='c-product-thumbnail__desc').text.strip()\n",
    "\n",
    "        prix.append(price)\n",
    "        marques.append(marque)\n",
    "        noms.append(nom)\n",
    "\n",
    "# Créer un dataframe pandas avec les informations extraites\n",
    "data = {'Noms': noms, 'Marques': marques, 'Prix': prix}\n",
    "df = pd.DataFrame(data)\n",
    "\n",
    "# Exporter le dataframe dans un fichier CSV\n",
    "df.to_csv('produits.csv', index=True)\n",
    "\n",
    "# Exporter le dataframe dans un fichier Excel\n",
    "df.to_excel('produits.xlsx', index=True)\n"
   ]
  }
 ],
 "metadata": {
  "kernelspec": {
   "display_name": "Python 3 (ipykernel)",
   "language": "python",
   "name": "python3"
  },
  "language_info": {
   "codemirror_mode": {
    "name": "ipython",
    "version": 3
   },
   "file_extension": ".py",
   "mimetype": "text/x-python",
   "name": "python",
   "nbconvert_exporter": "python",
   "pygments_lexer": "ipython3",
   "version": "3.9.13"
  }
 },
 "nbformat": 4,
 "nbformat_minor": 5
}
